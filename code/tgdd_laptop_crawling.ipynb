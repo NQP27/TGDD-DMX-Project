{
 "cells": [
  {
   "cell_type": "code",
   "execution_count": null,
   "metadata": {},
   "outputs": [],
   "source": [
    "from selenium import webdriver\n",
    "import pandas as pd\n",
    "import csv\n",
    "from time import sleep\n",
    "from selenium.webdriver.common.by import By\n",
    "from selenium.webdriver.chrome.service import Service\n",
    "from bs4 import BeautifulSoup\n"
   ]
  },
  {
   "cell_type": "code",
   "execution_count": null,
   "metadata": {},
   "outputs": [],
   "source": [
    "url = 'https://www.thegioididong.com/laptop-asus#c=44&m=122,128,119,120,118,203&o=17&pi=12' \n",
    "s = Service('E:\\project\\crawl-data\\script\\chromedriver.exe')\n",
    "driver = webdriver.Chrome(service=s)\n",
    "driver.get(url)"
   ]
  },
  {
   "cell_type": "code",
   "execution_count": null,
   "metadata": {},
   "outputs": [],
   "source": [
    "page_source = BeautifulSoup(driver.page_source)"
   ]
  },
  {
   "cell_type": "code",
   "execution_count": null,
   "metadata": {},
   "outputs": [],
   "source": [
    "laptop_list = page_source.find_all('a',attrs={'class':'main-contain', 'data-box':'BoxCateFilter'})\n",
    "link_list = []\n",
    "for laptop in laptop_list:\n",
    "    laptop_link = laptop.get('href')\n",
    "    if laptop_link not in link_list:\n",
    "        link_list.append('https://www.thegioididong.com' + laptop_link)\n",
    "link_list\n",
    "len(link_list)"
   ]
  },
  {
   "cell_type": "code",
   "execution_count": 18,
   "metadata": {},
   "outputs": [],
   "source": [
    "names  = []\n",
    "old_prices = []\n",
    "present_prices = []\n",
    "discounts = []\n",
    "due_discounts = []\n",
    "types = []   # Loại thiết bị\n",
    "trademarks = [] # Thương hiệu\n",
    "series = []    # Dòng sản phẩm\n",
    "links = link_list"
   ]
  },
  {
   "cell_type": "code",
   "execution_count": 19,
   "metadata": {},
   "outputs": [],
   "source": [
    "for link in link_list[100:150]:\n",
    "    driver.get(link)\n",
    "    sleep(10)\n",
    "    page_source = BeautifulSoup(driver.page_source)\n",
    "    try:\n",
    "        #Lấy tên sản phẩm\n",
    "        name = page_source.find('section', attrs={'data-cate-id':'44','class':'detail'}).find('h1').get_text().strip()\n",
    "        \n",
    "        #Lấy giá gốc của sản phẩm\n",
    "        old_price = page_source.find('p',class_='box-price-old').get_text().strip() \n",
    "        \n",
    "        #Lấy giá đã giảm của sản phẩm\n",
    "        present_price = page_source.find('p',class_='box-price-present').get_text().strip() \n",
    "        \n",
    "        #Lấy phần trăm discount của sản phẩm\n",
    "        percent = page_source.find('p',class_='box-price-percent')\n",
    "        discount = 'empty'\n",
    "        if percent == None :\n",
    "            discount = 'empty'\n",
    "        else:\n",
    "            discount = percent.get_text().strip()\n",
    "            \n",
    "        #Lấy hạn giảm giá\n",
    "        due_discount = ' '.join(page_source.find('div', class_='pr-top').find('i',class_='pr-txt').get_text().strip().split(' ')[-3:])\n",
    "        \n",
    "        #Lấy loại thiết bị\n",
    "        type = page_source.find('section', attrs={'data-cate-id':'44','class':'detail'}).find_all('li')[0].get_text().strip()\n",
    "        \n",
    "        #Lấy tên thương hiệu\n",
    "        trademark = page_source.find('section', attrs={'data-cate-id':'44','class':'detail'}).find_all('li')[1].get_text().strip().split(' ')[1]\n",
    "        \n",
    "        #Lấy dòng sản phẩm\n",
    "        temp = name.split(' ')\n",
    "        serie = temp[temp.index(trademark) + 1]\n",
    "        \n",
    "        \n",
    "        #Thêm các giá trị vào list tương ứng nếu không có lỗi\n",
    "        names.append(name)\n",
    "        old_prices.append(old_price)\n",
    "        present_prices.append(present_price)\n",
    "        discounts.append(discounts)\n",
    "        due_discounts.append(due_discount)\n",
    "        types.append(type)\n",
    "        trademarks.append(trademark)\n",
    "        series.append(serie)\n",
    "        \n",
    "    except :\n",
    "        pass"
   ]
  },
  {
   "cell_type": "code",
   "execution_count": 17,
   "metadata": {},
   "outputs": [
    {
     "data": {
      "text/html": [
       "<div>\n",
       "<style scoped>\n",
       "    .dataframe tbody tr th:only-of-type {\n",
       "        vertical-align: middle;\n",
       "    }\n",
       "\n",
       "    .dataframe tbody tr th {\n",
       "        vertical-align: top;\n",
       "    }\n",
       "\n",
       "    .dataframe thead th {\n",
       "        text-align: right;\n",
       "    }\n",
       "</style>\n",
       "<table border=\"1\" class=\"dataframe\">\n",
       "  <thead>\n",
       "    <tr style=\"text-align: right;\">\n",
       "      <th></th>\n",
       "      <th>name</th>\n",
       "      <th>old_price</th>\n",
       "      <th>present_price</th>\n",
       "      <th>discount</th>\n",
       "      <th>due_discount</th>\n",
       "      <th>type_of_device</th>\n",
       "      <th>trademark</th>\n",
       "      <th>series</th>\n",
       "      <th>link</th>\n",
       "    </tr>\n",
       "  </thead>\n",
       "  <tbody>\n",
       "    <tr>\n",
       "      <th>0</th>\n",
       "      <td>Laptop Asus Gaming TUF Dash F15 FX517ZE i5 124...</td>\n",
       "      <td>24.990.000₫</td>\n",
       "      <td>20.490.000₫ *</td>\n",
       "      <td>[[[[[...], [...], [...], [...], [...]], [[...]...</td>\n",
       "      <td>23:00 | 30/11</td>\n",
       "      <td>Laptop</td>\n",
       "      <td>Asus</td>\n",
       "      <td>Gaming</td>\n",
       "      <td>https://www.thegioididong.com/laptop/asus-tuf-...</td>\n",
       "    </tr>\n",
       "    <tr>\n",
       "      <th>1</th>\n",
       "      <td>Laptop Asus Gaming ROG Strix G15 G513IH R7 480...</td>\n",
       "      <td>22.990.000₫</td>\n",
       "      <td>17.990.000₫ *</td>\n",
       "      <td>[[[[[...], [...], [...], [...], [...]], [[...]...</td>\n",
       "      <td>23:00 | 30/11</td>\n",
       "      <td>Laptop</td>\n",
       "      <td>Asus</td>\n",
       "      <td>Gaming</td>\n",
       "      <td>https://www.thegioididong.com/laptop/asus-rog-...</td>\n",
       "    </tr>\n",
       "    <tr>\n",
       "      <th>2</th>\n",
       "      <td>Laptop Asus Vivobook 14X OLED A1405ZA i5 12500...</td>\n",
       "      <td>19.490.000₫</td>\n",
       "      <td>16.990.000₫ *</td>\n",
       "      <td>[[[[[...], [...], [...], [...], [...]], [[...]...</td>\n",
       "      <td>23:00 | 30/11</td>\n",
       "      <td>Laptop</td>\n",
       "      <td>Asus</td>\n",
       "      <td>Vivobook</td>\n",
       "      <td>https://www.thegioididong.com/laptop/asus-vivo...</td>\n",
       "    </tr>\n",
       "    <tr>\n",
       "      <th>3</th>\n",
       "      <td>Laptop Acer Aspire Vero AV15 51 58HB i5 1155G7...</td>\n",
       "      <td>17.990.000₫</td>\n",
       "      <td>12.990.000₫ *</td>\n",
       "      <td>[[[[[...], [...], [...], [...], [...]], [[...]...</td>\n",
       "      <td>23:00 | 30/11</td>\n",
       "      <td>Laptop</td>\n",
       "      <td>Acer</td>\n",
       "      <td>Aspire</td>\n",
       "      <td>https://www.thegioididong.com/laptop/acer-aspi...</td>\n",
       "    </tr>\n",
       "    <tr>\n",
       "      <th>4</th>\n",
       "      <td>Laptop Acer Nitro 5 Tiger AN515 58 52SP i5 125...</td>\n",
       "      <td>27.990.000₫</td>\n",
       "      <td>22.990.000₫ *</td>\n",
       "      <td>[[[[[...], [...], [...], [...], [...]], [[...]...</td>\n",
       "      <td>23:00 | 30/11</td>\n",
       "      <td>Laptop</td>\n",
       "      <td>Acer</td>\n",
       "      <td>Nitro</td>\n",
       "      <td>https://www.thegioididong.com/laptop/acer-nitr...</td>\n",
       "    </tr>\n",
       "  </tbody>\n",
       "</table>\n",
       "</div>"
      ],
      "text/plain": [
       "                                                name    old_price  \\\n",
       "0  Laptop Asus Gaming TUF Dash F15 FX517ZE i5 124...  24.990.000₫   \n",
       "1  Laptop Asus Gaming ROG Strix G15 G513IH R7 480...  22.990.000₫   \n",
       "2  Laptop Asus Vivobook 14X OLED A1405ZA i5 12500...  19.490.000₫   \n",
       "3  Laptop Acer Aspire Vero AV15 51 58HB i5 1155G7...  17.990.000₫   \n",
       "4  Laptop Acer Nitro 5 Tiger AN515 58 52SP i5 125...  27.990.000₫   \n",
       "\n",
       "   present_price                                           discount  \\\n",
       "0  20.490.000₫ *  [[[[[...], [...], [...], [...], [...]], [[...]...   \n",
       "1  17.990.000₫ *  [[[[[...], [...], [...], [...], [...]], [[...]...   \n",
       "2  16.990.000₫ *  [[[[[...], [...], [...], [...], [...]], [[...]...   \n",
       "3  12.990.000₫ *  [[[[[...], [...], [...], [...], [...]], [[...]...   \n",
       "4  22.990.000₫ *  [[[[[...], [...], [...], [...], [...]], [[...]...   \n",
       "\n",
       "    due_discount type_of_device trademark    series  \\\n",
       "0  23:00 | 30/11         Laptop      Asus    Gaming   \n",
       "1  23:00 | 30/11         Laptop      Asus    Gaming   \n",
       "2  23:00 | 30/11         Laptop      Asus  Vivobook   \n",
       "3  23:00 | 30/11         Laptop      Acer    Aspire   \n",
       "4  23:00 | 30/11         Laptop      Acer     Nitro   \n",
       "\n",
       "                                                link  \n",
       "0  https://www.thegioididong.com/laptop/asus-tuf-...  \n",
       "1  https://www.thegioididong.com/laptop/asus-rog-...  \n",
       "2  https://www.thegioididong.com/laptop/asus-vivo...  \n",
       "3  https://www.thegioididong.com/laptop/acer-aspi...  \n",
       "4  https://www.thegioididong.com/laptop/acer-nitr...  "
      ]
     },
     "execution_count": 17,
     "metadata": {},
     "output_type": "execute_result"
    }
   ],
   "source": [
    "data = {'name' : names,\\\n",
    "        'old_price' : old_prices,\\\n",
    "        'present_price' : present_prices,\\\n",
    "        'discount' : discounts,\\\n",
    "        'due_discount' : due_discounts,\\\n",
    "        'type_of_device' : types,\\\n",
    "        'trademark' : trademarks,\\\n",
    "        'series' : series,\\\n",
    "        'link' : links[100:150]\n",
    "        }\n",
    "df = pd.DataFrame(data)\n",
    "df\n"
   ]
  },
  {
   "cell_type": "code",
   "execution_count": 14,
   "metadata": {},
   "outputs": [
    {
     "data": {
      "text/plain": [
       "[]"
      ]
     },
     "execution_count": 14,
     "metadata": {},
     "output_type": "execute_result"
    }
   ],
   "source": [
    "names"
   ]
  },
  {
   "cell_type": "code",
   "execution_count": null,
   "metadata": {},
   "outputs": [],
   "source": [
    "df.to_csv('E:\\project\\crawl-data\\outputed-csv-file\\laptop_tgdd_100_end.csv', mode = 'a')"
   ]
  }
 ],
 "metadata": {
  "kernelspec": {
   "display_name": "Python 3 (ipykernel)",
   "language": "python",
   "name": "python3"
  },
  "language_info": {
   "codemirror_mode": {
    "name": "ipython",
    "version": 3
   },
   "file_extension": ".py",
   "mimetype": "text/x-python",
   "name": "python",
   "nbconvert_exporter": "python",
   "pygments_lexer": "ipython3",
   "version": "3.10.11"
  }
 },
 "nbformat": 4,
 "nbformat_minor": 2
}
